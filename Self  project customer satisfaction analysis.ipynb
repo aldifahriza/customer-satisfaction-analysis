{
 "cells": [
  {
   "cell_type": "code",
   "execution_count": 53,
   "id": "1d7ca10a-43bd-4574-b58f-dafc641950e7",
   "metadata": {},
   "outputs": [
    {
     "name": "stdout",
     "output_type": "stream",
     "text": [
      "the average satisfaction: 2.43\n",
      "the average delivery days for satisfied: 5.0\n",
      "Percentage of dissatisfied customer: 52.80%\n",
      "percentage pf satisfied customer received package 3 days or less: 28.57%\n",
      "percentage pf dissatisfied customer received package 7 days or more: 20.08%\n"
     ]
    }
   ],
   "source": [
    "#TASK #2: Analysis of Customer Satisfaction and Delivery Performance\n",
    "#🏢 Perusahaan: BelanjaSmart.id (self project)\n",
    "import numpy as np\n",
    "#data set(simulation)\n",
    "Delivery_time = np.random.randint(1, 10, 500)\n",
    "Satisfaction_core = np.random.randint(1,5,500)\n",
    "\n",
    "#Classify customer satisfaction.\n",
    "customer_satisfaction = np.where ((Satisfaction_core <= 2), 'Dissatisfied',\n",
    "                                  np.where((Satisfaction_core <= 3), 'Neutral',\n",
    "                                           np.where((Satisfaction_core <= 5), 'Satisfied', 'Satisfied')))\n",
    "\n",
    "#📈 Average Satisfaction Score\n",
    "satisfaction_score = np.round(Satisfaction_core.mean(), 2)\n",
    "\n",
    "\n",
    "print(\"the average satisfaction:\", satisfaction_score) #output\n",
    "\n",
    "#Average delivery days for 'Satisfied' customers.\n",
    "satisfied_mask = customer_satisfaction == 'Satisfied'\n",
    "avg_delivery_satisfied = np.round(np.mean(Delivery_time[satisfied_mask]), 2)\n",
    "\n",
    "print(\"the average delivery days for satisfied:\", avg_delivery_satisfied)#output\n",
    "\n",
    "#Percentage of 'Dissatisfied' customers\n",
    "dissatisfied_customer = np.sum(customer_satisfaction == 'Dissatisfied')\n",
    "presentase1 = (dissatisfied_customer/len(customer_satisfaction)*100)\n",
    "\n",
    "print(f\"Percentage of dissatisfied customer: {presentase1:.2f}%\") #output\n",
    "\n",
    "#📦 What percentage of 'Satisfied' customers received their package within 3 days or less?\n",
    "delivery_fast = (Delivery_time <= 3)\n",
    "satisfaction = (customer_satisfaction == 'Satisfied')\n",
    "satisfaction_and_fast = delivery_fast & satisfaction\n",
    "\n",
    "total_satisfied = satisfaction.sum()\n",
    "satisfied_and_fast_score = satisfaction_and_fast.sum()\n",
    "\n",
    "persentase2 = (satisfied_and_fast_score / total_satisfied) * 100\n",
    "print(f\"percentage pf satisfied customer received package 3 days or less: {persentase2:.2f}%\")\n",
    "\n",
    "#Do 'Dissatisfied' customers tend to receive deliveries taking more than 7 days?\n",
    "delivery_slow = (Delivery_time > 7)\n",
    "dissatisfied = (customer_satisfaction == 'Dissatisfied')\n",
    "dissastisfied_and_slow = delivery_slow & dissatisfied\n",
    "\n",
    "total_dissatisfied = dissatisfied.sum()\n",
    "dissatisfied_and_slow_score = dissastisfied_and_slow.sum()\n",
    "presentase3 = (dissatisfied_and_slow_score/total_dissatisfied)*100\n",
    "print(f\"percentage pf dissatisfied customer received package 7 days or more: {presentase3:.2f}%\")\n"
   ]
  }
 ],
 "metadata": {
  "kernelspec": {
   "display_name": "Python [conda env:base] *",
   "language": "python",
   "name": "conda-base-py"
  },
  "language_info": {
   "codemirror_mode": {
    "name": "ipython",
    "version": 3
   },
   "file_extension": ".py",
   "mimetype": "text/x-python",
   "name": "python",
   "nbconvert_exporter": "python",
   "pygments_lexer": "ipython3",
   "version": "3.12.7"
  }
 },
 "nbformat": 4,
 "nbformat_minor": 5
}
