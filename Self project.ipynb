{
 "cells": [
  {
   "cell_type": "code",
   "execution_count": null,
   "id": "1d7ca10a-43bd-4574-b58f-dafc641950e7",
   "metadata": {},
   "outputs": [],
   "source": []
  }
 ],
 "metadata": {
  "kernelspec": {
   "display_name": "",
   "name": ""
  },
  "language_info": {
   "name": ""
  }
 },
 "nbformat": 4,
 "nbformat_minor": 5
}
